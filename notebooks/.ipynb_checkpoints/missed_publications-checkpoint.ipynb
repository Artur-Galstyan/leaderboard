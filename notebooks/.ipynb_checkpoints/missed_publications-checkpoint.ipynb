{
 "cells": [
  {
   "cell_type": "code",
   "execution_count": 1,
   "id": "c7e38cd3-deff-4688-aceb-4253e3c02f08",
   "metadata": {},
   "outputs": [],
   "source": [
    "import pandas as pd\n",
    "import numpy as np"
   ]
  },
  {
   "cell_type": "code",
   "execution_count": 49,
   "id": "d6d845da-b505-4f82-a5cb-f2edcc044400",
   "metadata": {},
   "outputs": [],
   "source": [
    "df = pd.read_csv(\"KGQA Leaderboard - Visualization.csv\")\n",
    "df = df[df.System != 'mBERT']\n",
    "# datasets = ['QALD-8', 'QALD-9', 'LC-QuAD 1.0', 'LC-QuAD 2.0']\n",
    "# df = df[df.Dataset.isin(datasets)]"
   ]
  },
  {
   "cell_type": "code",
   "execution_count": 50,
   "id": "68143dd2-1031-4c2b-81e7-a7d46951f8e7",
   "metadata": {},
   "outputs": [],
   "source": [
    "link_missed_dict = dict()\n",
    "for link in df.Link.unique(): # iterating over publications\n",
    "    if str(link) == 'nan':\n",
    "        continue\n",
    "        \n",
    "    df_ = df[df.Link == link]\n",
    "    yr = df_.Year.values.tolist()[0]\n",
    "    for dataset in df_.Dataset.unique(): # iterating over evaluated dataset in a publication\n",
    "        if link + \"+_+\" + dataset not in link_missed_dict.keys():\n",
    "            link_missed_dict[link + \"+_+\" + dataset] = list()\n",
    "            \n",
    "        df_ds = df_[df_.Dataset == dataset]\n",
    "        df_rest = df[(df.Dataset == dataset) & (df.Year < yr)]\n",
    "        \n",
    "        for system in df_rest.System.unique(): # iterating over available systems for the year before the publication was released\n",
    "            if system not in df_ds.System.values.tolist():\n",
    "                link_missed_dict[link + \"+_+\" + dataset].append(system) # append missed system"
   ]
  },
  {
   "cell_type": "code",
   "execution_count": 51,
   "id": "9a5bc1c2-1a6d-49e4-93c1-1aab79f97449",
   "metadata": {},
   "outputs": [],
   "source": [
    "links, ds, num, sys = list(), list(), list(), list()\n",
    "for k,v in link_missed_dict.items():\n",
    "    links.append(k.split('+_+')[0])\n",
    "    ds.append(k.split('+_+')[1])\n",
    "    num.append(len(v))\n",
    "    sys.append(v)"
   ]
  },
  {
   "cell_type": "code",
   "execution_count": 52,
   "id": "4b4c60dd-2c96-424b-9756-2606eb7bc080",
   "metadata": {},
   "outputs": [
    {
     "data": {
      "text/html": [
       "<div>\n",
       "<style scoped>\n",
       "    .dataframe tbody tr th:only-of-type {\n",
       "        vertical-align: middle;\n",
       "    }\n",
       "\n",
       "    .dataframe tbody tr th {\n",
       "        vertical-align: top;\n",
       "    }\n",
       "\n",
       "    .dataframe thead th {\n",
       "        text-align: right;\n",
       "    }\n",
       "</style>\n",
       "<table border=\"1\" class=\"dataframe\">\n",
       "  <thead>\n",
       "    <tr style=\"text-align: right;\">\n",
       "      <th></th>\n",
       "      <th>link</th>\n",
       "      <th>dataset</th>\n",
       "      <th>n_missed</th>\n",
       "      <th>missed</th>\n",
       "    </tr>\n",
       "  </thead>\n",
       "  <tbody>\n",
       "    <tr>\n",
       "      <th>0</th>\n",
       "      <td>https://arxiv.org/pdf/2105.00811.pdf</td>\n",
       "      <td>QALD-1</td>\n",
       "      <td>0</td>\n",
       "      <td>[]</td>\n",
       "    </tr>\n",
       "    <tr>\n",
       "      <th>1</th>\n",
       "      <td>https://arxiv.org/pdf/2105.00811.pdf</td>\n",
       "      <td>QALD-2</td>\n",
       "      <td>10</td>\n",
       "      <td>[SemSeK, Alexandria, MHE, QAKiS, BELA, Wolfram...</td>\n",
       "    </tr>\n",
       "    <tr>\n",
       "      <th>2</th>\n",
       "      <td>https://arxiv.org/pdf/2105.00811.pdf</td>\n",
       "      <td>QALD-3</td>\n",
       "      <td>9</td>\n",
       "      <td>[CASIA, WDAqua-core1, RTV, Intui2, SINA, DEANN...</td>\n",
       "    </tr>\n",
       "    <tr>\n",
       "      <th>3</th>\n",
       "      <td>https://arxiv.org/pdf/2105.00811.pdf</td>\n",
       "      <td>QALD-4</td>\n",
       "      <td>10</td>\n",
       "      <td>[Xser, WDAqua-core1, CASIA, Intui3, ISOFT, Hak...</td>\n",
       "    </tr>\n",
       "    <tr>\n",
       "      <th>4</th>\n",
       "      <td>https://arxiv.org/pdf/2105.00811.pdf</td>\n",
       "      <td>QALD-5</td>\n",
       "      <td>7</td>\n",
       "      <td>[Xser, UTQA, WDAqua-core1, QAnswer, SemGraphQA...</td>\n",
       "    </tr>\n",
       "  </tbody>\n",
       "</table>\n",
       "</div>"
      ],
      "text/plain": [
       "                                   link dataset  n_missed  \\\n",
       "0  https://arxiv.org/pdf/2105.00811.pdf  QALD-1         0   \n",
       "1  https://arxiv.org/pdf/2105.00811.pdf  QALD-2        10   \n",
       "2  https://arxiv.org/pdf/2105.00811.pdf  QALD-3         9   \n",
       "3  https://arxiv.org/pdf/2105.00811.pdf  QALD-4        10   \n",
       "4  https://arxiv.org/pdf/2105.00811.pdf  QALD-5         7   \n",
       "\n",
       "                                              missed  \n",
       "0                                                 []  \n",
       "1  [SemSeK, Alexandria, MHE, QAKiS, BELA, Wolfram...  \n",
       "2  [CASIA, WDAqua-core1, RTV, Intui2, SINA, DEANN...  \n",
       "3  [Xser, WDAqua-core1, CASIA, Intui3, ISOFT, Hak...  \n",
       "4  [Xser, UTQA, WDAqua-core1, QAnswer, SemGraphQA...  "
      ]
     },
     "execution_count": 52,
     "metadata": {},
     "output_type": "execute_result"
    }
   ],
   "source": [
    "df_missed = pd.DataFrame.from_dict({\"link\": links, \"dataset\": ds, \"n_missed\": num, \"missed\": sys})\n",
    "df_missed.head()"
   ]
  },
  {
   "cell_type": "code",
   "execution_count": 55,
   "id": "3407aae6-2792-4d05-9fbd-adc6e61689a6",
   "metadata": {},
   "outputs": [
    {
     "data": {
      "text/plain": [
       "0.6721311475409837"
      ]
     },
     "execution_count": 55,
     "metadata": {},
     "output_type": "execute_result"
    }
   ],
   "source": [
    "1 - df_missed[df_missed.n_missed == 0].shape[0]/df_missed.shape[0]"
   ]
  },
  {
   "cell_type": "code",
   "execution_count": 54,
   "id": "03dc004e-8d26-4cfd-8d5c-be93104566c9",
   "metadata": {},
   "outputs": [
    {
     "data": {
      "text/plain": [
       "61"
      ]
     },
     "execution_count": 54,
     "metadata": {},
     "output_type": "execute_result"
    }
   ],
   "source": [
    "df_missed.shape[0]"
   ]
  },
  {
   "cell_type": "code",
   "execution_count": null,
   "id": "13e1c923-3193-4e42-be19-4b17980b78fe",
   "metadata": {},
   "outputs": [],
   "source": []
  }
 ],
 "metadata": {
  "kernelspec": {
   "display_name": "Python 3 (ipykernel)",
   "language": "python",
   "name": "python3"
  },
  "language_info": {
   "codemirror_mode": {
    "name": "ipython",
    "version": 3
   },
   "file_extension": ".py",
   "mimetype": "text/x-python",
   "name": "python",
   "nbconvert_exporter": "python",
   "pygments_lexer": "ipython3",
   "version": "3.8.10"
  }
 },
 "nbformat": 4,
 "nbformat_minor": 5
}
